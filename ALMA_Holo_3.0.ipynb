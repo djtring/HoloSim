{
 "cells": [
  {
   "cell_type": "code",
   "execution_count": 10,
   "metadata": {},
   "outputs": [],
   "source": [
    "import numpy as np\n",
    "import matplotlib.pyplot as plt\n",
    "from scipy.integrate import dblquad"
   ]
  },
  {
   "cell_type": "markdown",
   "metadata": {},
   "source": [
    "# Step 1: Transmitter Placement\n",
    "Holography is most likely in the near-field unless we have access to a geostationary satellite 1000s of kilometers away. This can be shown through the far-field equation given by:\n",
    "$$R_F>\\frac{2D^2}{\\lambda}$$\n",
    "So how close can we come to our dish antenna? A good rule of thumb is to be greater than approximetly five aperature diameters away such that:\n",
    "$$R_{min}\\approx 5D$$\n",
    "It is still important to note that while this would be the minimum distance to get usable measurements, placing the transmitter farther would decrease the effect of systematic errors. We reccomended, if possible, that the transmitter is placed closer to the cutoff of the reactive near field which is given as:\n",
    "$$R_{react}<0.62\\sqrt{\\frac{D^3}{\\lambda}}$$\n",
    "\n",
    "**Parameters:**\n",
    "\n",
    "$D$ is the diameter of the dish antenna\n",
    "\n",
    "$\\lambda$ is the wavelength at which holography is being done\n",
    "\n",
    "$\\nu$ is the frequency at which holography is being done\n",
    "\n",
    "$c = 3*10^8$ is the speed of light"
   ]
  },
  {
   "cell_type": "code",
   "execution_count": 11,
   "metadata": {},
   "outputs": [
    {
     "name": "stdout",
     "output_type": "stream",
     "text": [
      "R_F = 99859.2\n",
      "R_min = 60\n",
      "R_react = 479.91171988189654\n"
     ]
    }
   ],
   "source": [
    "# Parameters\n",
    "D = 12 # m\n",
    "nu = 104.02 # GHz\n",
    "c = 3 * 10**8 # m/s\n",
    "\n",
    "# Wavelength\n",
    "lam = c/(nu*10**9) # m\n",
    "\n",
    "# Far-field cutoff\n",
    "R_F = (2*D**2)/lam # m\n",
    "\n",
    "print('R_F = ' + str(R_F))\n",
    "\n",
    "# Minimum transmitter distance\n",
    "R_min = 5*D # m\n",
    "\n",
    "print('R_min = ' + str(R_min))\n",
    "\n",
    "# Reactive near-field cutoff\n",
    "R_react = 0.62*np.sqrt(D**3/lam) # m\n",
    "\n",
    "print('R_react = ' + str(R_react))"
   ]
  },
  {
   "cell_type": "markdown",
   "metadata": {},
   "source": [
    "# Step 2: Spatial Resolution $\\delta d$\n",
    "\n",
    "The spatial resolution $\\delta d$ in the aperture plane is not calculated. It is just chosen based on the positions of panel adjusters. “In order to be able to determine individual adjuster positioning to optimize antenna surface setting using holography measurements, one needs to be able to measure deformations over individual panels with enough resolution in the aperture to see the influence of individual panel adjusters”. If the panels have dimensions $x$ by $y$ in size and each of the corner adjustors are a distance $a$ from each from each other, then the minimum distance between any corner adjuster and the center adjuster is $a\\sqrt{2}$. We need at least two measurements between adjuster so the spatial resolution should be set at:\n",
    "\n",
    "$$\\delta d <\\frac{a\\sqrt{2}}{2}$$\n",
    "\n",
    "**Parameters:**\n",
    "\n",
    "$\\delta d$ is the spatial resolution\n",
    "\n",
    "$a$ is the distance between corner adjustors\n"
   ]
  },
  {
   "cell_type": "code",
   "execution_count": 12,
   "metadata": {},
   "outputs": [
    {
     "name": "stdout",
     "output_type": "stream",
     "text": [
      "delta_d < 20.00201437223761\n"
     ]
    }
   ],
   "source": [
    "# Parameters\n",
    "a = 0.2828712 # m\n",
    "\n",
    "# Spatial resolution\n",
    "delta_d = a*np.sqrt(2)/2 *10**2 # cm\n",
    "\n",
    "print(\"delta_d < \" + str(delta_d))"
   ]
  },
  {
   "cell_type": "markdown",
   "metadata": {},
   "source": [
    "# Step 3: Grid Point Integration Time $t_{int}$ and Total Map Time $\\Delta t_{map}$\n",
    "\n",
    "If we have chosen a measurement frequency $\\nu$ then we can find the angular extent of holography map $\\theta_{ext}$. This now allows us to find $\\Delta t_{map}$:\n",
    "\n",
    "$$\\Delta t_{map} = N_{row}t_{row} = \\frac{171768 f_{osr} f_1 f_{apo}^2 D(m)}{\\dot{\\theta}(arcsec/sec) \\nu (GHz) (\\delta d (cm))^2} hours$$\n",
    "\n",
    "The integration time per point can also be calculated to be:\n",
    "\n",
    "$$t_{int} = \\frac{\\Delta t_{map}}{N_{grid}} = \\frac{6.2\\cdot 10^4 f_{osr}f_1 f_{apo}^2}{\\dot{\\theta}(arcsec/sec)\\nu(GHz)D(m)}$$\n",
    "\n",
    "**Parameters:**\n",
    "\n",
    "$f_1$ is the primary beam taper factor ($f_1 \\approx 1$)\n",
    "\n",
    "$f_{apo}$ is an apodization smoothing factor used in the holography imaging to dampen ringing on the edge of the aperture (cited to be 1.3)\n",
    "\n",
    "$f_{osr}$ oversampling factor between rows (usually 2.2)\n",
    "\n",
    "$f_{oss}$ oversampling factor along a row\n",
    "\n",
    "$\\dot{\\theta}$ is the chosen rotation rate of the dish antenna\n",
    "\n",
    "$t_{row}$ is the time it takes to measure one holography row\n",
    "\n",
    "$t_{int}$ is the integration time per image grid point\n",
    "\n",
    "$\\Delta t_{map}$ is the total time it takes to measure one holography map"
   ]
  },
  {
   "cell_type": "code",
   "execution_count": 13,
   "metadata": {},
   "outputs": [
    {
     "name": "stdout",
     "output_type": "stream",
     "text": [
      "t_int = 0.6956009528082207\n",
      "t_map = 0.6936266321326223\n"
     ]
    }
   ],
   "source": [
    "# Parameters\n",
    "f_1 = 1.13\n",
    "f_apo = 1.3  # hard code with option to change (put into box by defult)\n",
    "f_osr = 2.2\n",
    "f_oss = 15  #ignore f_oss, not needed in step 3, add into step 4 \n",
    "dtheta = 300 # arcsec/sec\n",
    "\n",
    "# integration time\n",
    "t_int = 6.2*10**4*f_osr*f_1*f_apo**2 / (dtheta*nu*D) # seconds (equation 10 from NGVLA memo)\n",
    "# t_int = 36 * 10**-3 *f_oss # seconds (ALMA intergation time)\n",
    "\n",
    "print('t_int = ' + str(t_int))\n",
    "\n",
    "# total map time\n",
    "t_map = 171768 * f_osr * f_1 * f_apo**2 * D / (dtheta * nu * delta_d**2) # hours\n",
    "\n",
    "print('t_map = ' + str(t_map))"
   ]
  },
  {
   "cell_type": "code",
   "execution_count": null,
   "metadata": {},
   "outputs": [],
   "source": []
  },
  {
   "cell_type": "markdown",
   "metadata": {},
   "source": [
    "# Step 4: Holography Map Sampling Intervals $\\theta_{sr}$ and $\\theta_{ss}$\n",
    "\n",
    "Assuming a boustrophedonic scanning pattern the spatial resolution is given as:\n",
    "\n",
    "$$\\delta d = \\frac{D}{N_{row}} = \\frac{f_1 f_{apo} c}{\\nu \\theta_{ext}}$$\n",
    "\n",
    "Every variable is constant except for the measurment frequency $\\nu$ and the angular extent of the holography map $\\theta_{ext}$, so with the chosen measurment frequency we find $\\theta_{ext}$:\n",
    "\n",
    "$$\\theta_{ext} = \\frac{f_1 f_{apo} c}{\\nu\\delta d}$$\n",
    "\n",
    "By also finding the primary beam size ($\\theta_b$) of a single measurement in on the aperature then we can calculate the angular sampling intervals along the rows and colums of the scan ($\\theta_{sr}$ and $\\theta_{ss}$ respectively):\n",
    "\n",
    "$$\\theta_{b} = \\frac{61836.6 f_1 }{\\nu(GHz) D (m)}arcsec$$\n",
    "\n",
    "$$\\theta_{sr} = \\frac{\\theta_b}{f_{osr}}arcsec$$\n",
    "\n",
    "$$\\theta_{ss} = \\frac{\\theta_b}{f_{oss}}arcsec$$\n",
    "\n",
    "**Parameters:**\n",
    "\n",
    "$\\theta_{ext}$ is the angular extent of the holography map\n",
    "\n",
    "$\\theta_b$ is the primary beam size\n",
    "\n",
    "$\\theta_{sr}$ is the sampling interval between rows\n",
    "\n",
    "$\\theta_{ss}$ is the sampling interval along a scan"
   ]
  },
  {
   "cell_type": "code",
   "execution_count": 14,
   "metadata": {},
   "outputs": [
    {
     "name": "stdout",
     "output_type": "stream",
     "text": [
      "theta_ext = 1.212770227932177\n",
      "theta_b = 55.97910497981157\n",
      "theta_sr = 25.445047718096166\n",
      "theta_ss = 3.731940331987438\n"
     ]
    }
   ],
   "source": [
    "# angular extent of map\n",
    "theta_ext = 1717.7*f_1*f_apo/(delta_d*nu) # deg\n",
    "print('theta_ext = ' + str(theta_ext))\n",
    "\n",
    "# beamwidth\n",
    "theta_b = 61836.6*f_1/(nu*D) # arcsec\n",
    "\n",
    "print('theta_b = ' + str(theta_b))\n",
    "\n",
    "# sampling interval between rows\n",
    "theta_sr = theta_b/f_osr # arcsec\n",
    "\n",
    "print('theta_sr = ' + str(theta_sr))\n",
    "\n",
    "# sampling interval along scan\n",
    "theta_ss = theta_b/f_oss # arcsec\n",
    "\n",
    "print('theta_ss = ' + str(theta_ss))"
   ]
  },
  {
   "cell_type": "markdown",
   "metadata": {},
   "source": [
    "# Step 5: Pointing Accuracy $\\theta_{point}$ and $SNR$ required for a Surface Deformation ($\\delta z$)\n",
    "\n",
    "An important requirement for the design of our hardware is understanding how pointing errors will affect our surface deformation measurement. With our chosen measurement frequency $\\nu$ and surface deformation $\\delta_z$ the pointing accuracy requirement $\\theta_{point}$ can be calculated:\n",
    "\n",
    "$$\\theta_{point} < \\frac{180\\delta_z \\nu}{c} = (6\\cdot 10^{-4}) \\delta_{z}(\\mu m) \\nu(GHz)$$\n",
    "\n",
    "The system should be able to meet these requirements, but it is ok if there is drift in phase during a holography measurement due to there being a recalibration that is usually done after every few scans along a row. To find the required SNR that is in our holography measurement we first need to know how many grid points will be in our final holography map, assuming a square grid:\n",
    "\n",
    "$$N_{row} = \\frac{Df_{apo}f_{osr}}{\\delta d}$$\n",
    "\n",
    "We can now calculate the given SNR we need to measure on the edge of the aperature to be able to measure a given surface deformation ($\\delta_z$):\n",
    "\n",
    "$$\\delta_z = \\frac{\\lambda}{16\\sqrt{2}}\\sqrt{\\frac{N_{row}^2}{f_{osr}f_{oss}}}\\frac{1}{SNR}\\frac{1}{\\sqrt{f_{apo}}}$$\n",
    "\n",
    "**Parameters**\n",
    "\n",
    "$\\theta_{point}$ is the phase accuracy requirement of the transmitter\n",
    "\n",
    "$N_{row}$ is the number of final grid points in a row of the holography map\n",
    "\n",
    "$t_{int}$ is the integration time per image grid point\n",
    "\n",
    "$k$ is Boltzmann’s constant\n",
    "\n",
    "$T_{sys}$ is the system temperature\n",
    "\n",
    "$B$ is the detector bandwidth\n",
    "\n",
    "$SNR$ is the signal-to-noise-ratio\n",
    "\n",
    "$\\delta_z$ is the surface deformation of the holography map"
   ]
  },
  {
   "cell_type": "code",
   "execution_count": 15,
   "metadata": {},
   "outputs": [
    {
     "name": "stdout",
     "output_type": "stream",
     "text": [
      "theta_point < 0.31206\n",
      "N_row = 171.58271842677738\n",
      "SNR > 28.22731975516623\n"
     ]
    }
   ],
   "source": [
    "# Parameters\n",
    "delta_z = 5 # um\n",
    "\n",
    "theta_point = 6*10**-4 * delta_z * nu\n",
    "\n",
    "print(\"theta_point < \" + str(theta_point)) # deg\n",
    "\n",
    "# total number of grid points\n",
    "N_row = D/(delta_d*10**-2)*f_apo*f_osr\n",
    "\n",
    "print('N_row = ' + str(N_row))\n",
    "# print('N_grid = ' + str(N_grid))\n",
    "\n",
    "# delta_z = 0.044 * lam * np.sqrt(N_row**2 / (f_oss * f_osr)) * 1 / (10**(SNR/10)) * 1 / np.sqrt(f_apo) * 1e6\n",
    "SNR = 10*np.log10(0.044 * lam * np.sqrt(N_row**2/(f_oss*f_osr)) * 1/delta_z * 1/np.sqrt(f_apo) *10**6) # dB\n",
    "\n",
    "print('SNR > ' + str(SNR))"
   ]
  },
  {
   "cell_type": "markdown",
   "metadata": {},
   "source": [
    "# Step 6: Transmitter output power $P$\n",
    "\n",
    "A Gaussian beam's electric field at a distance $z$ from the waist (where the beam is the narrowest) is given by:\n",
    "\n",
    "$E(r, z) = E_0 \\frac{w_0}{w(z)} \\exp\\left(-\\frac{r^2}{w(z)^2}\\right) \\exp\\left(-i \\left(\\frac{k r^2}{2 R(z)} - \\psi(z)\\right)\\right)$\n",
    "\n",
    "where:\n",
    "- $E_0$ is the peak electric field amplitude at the waist.\n",
    "- $w_0$ is the beam waist (half the diameter of the transmitter).\n",
    "- $w(z)$ is the beam radius at distance $z$.\n",
    "- $r$ is the radial distance from the beam axis.\n",
    "- $k = \\frac{2\\pi}{\\lambda}$ is the wavenumber, with $\\lambda$ being the wavelength.\n",
    "- $R(z)$ is the radius of curvature of the wavefront at distance $z$.\n",
    "- $\\psi(z)$ is the Gouy phase shift.\n",
    "\n",
    "However, for calculating the coupling efficiency, we only need the intensity distribution (which is proportional to $|E(r, z)|^2$) and not the full complex field.\n",
    "\n",
    "The beam radius $w(z)$ at a distance $z$ is:\n",
    "\n",
    "$w(z) = w_0 \\sqrt{1 + \\left(\\frac{z}{z_R}\\right)^2}$\n",
    "\n",
    "where $z_R = \\frac{\\pi w_0^2}{\\lambda}$ is the Rayleigh range, representing the distance over which the beam's cross-sectional area approximately doubles.\n",
    "\n",
    "The beam-coupling efficiency $\\eta$ quantifies how much of the transmitter's Gaussian beam is captured by the receiver's aperture. It is calculated using the overlap integral:\n",
    "\n",
    "$\\eta = \\frac{\\left|\\int_{\\text{aperture}} E_t(\\mathbf{r}) E_r^*(\\mathbf{r}) \\, d\\mathbf{r}\\right|^2}{\\int_{\\text{aperture}} |E_t(\\mathbf{r})|^2 \\, d\\mathbf{r} \\int_{\\text{aperture}} |E_r(\\mathbf{r})|^2 \\, d\\mathbf{r}}$\n",
    "\n",
    "Since we assume perfect alignment between the transmitter and receiver, the formula simplifies to integrating the square of the beam's amplitude over the receiver's aperture.\n",
    "\n",
    "The integration is done over a circular aperture of radius $D_a/2$, which represents the receiver's aperture. The integral computes how much of the Gaussian beam's power falls within the receiver:\n",
    "\n",
    "$\\text{Overlap} = \\int_0^{D_a/2} r \\exp\\left(-\\frac{2r^2}{w(z)^2}\\right) \\, dr$\n",
    "\n",
    "The total power in a Gaussian beam is given by:\n",
    "\n",
    "$P_{\\text{total}} = \\frac{\\pi w(z)^2}{2}$\n",
    "\n",
    "This normalization ensures that the efficiency \\(\\eta\\) is calculated as a fraction of the total power.\n",
    "\n",
    "Finally, the beam-coupling efficiency is:\n",
    "\n",
    "$\\eta = \\left(\\frac{\\text{Overlap}}{P_{\\text{total}}}\\right)^2$\n",
    "\n",
    "This efficiency is then converted to decibels (dB):\n",
    "\n",
    "$\\eta_{\\text{dB}} = 10 \\times \\log_{10}(\\eta)$\n"
   ]
  },
  {
   "cell_type": "code",
   "execution_count": 16,
   "metadata": {},
   "outputs": [
    {
     "name": "stdout",
     "output_type": "stream",
     "text": [
      "Transmitter output power: 6.837177247244758e-16 W\n"
     ]
    }
   ],
   "source": [
    "# Parameters\n",
    "k = 1.38 * 10**-23 # Boltzman constant in J/K\n",
    "B = 0.01 # Bandwidth in MHz\n",
    "T_sys = 3600 # K\n",
    "G = 33 # dB of gain in their pyramidal horn antenna\n",
    "D_t = 0.002126  # Transmitter diameter in meters\n",
    "z = 315  # Distance between transmitter and receiver in meters\n",
    "\n",
    "# noise floor\n",
    "noise_floor = 10*np.log10(k*B*10**6*T_sys/(1*10**-3))\n",
    "# print(f\"Noise floor: {noise_floor:.4f} dBm\")\n",
    "\n",
    "# Beam waist at the transmitter\n",
    "w_0 = D_t / 2  # Beam waist at the transmitter\n",
    "z_R = np.pi * w_0**2 / lam  # Rayleigh range\n",
    "\n",
    "# Beam radius at the receiver location\n",
    "w_z = w_0 * np.sqrt(1 + (z / z_R)**2)\n",
    "\n",
    "# Define the integrand function for overlap integral\n",
    "def integrand(r, theta):\n",
    "    # Compute the Gaussian field amplitude squared\n",
    "    amplitude_squared = np.exp(-r**2 / w_z**2)\n",
    "    return r * amplitude_squared\n",
    "\n",
    "# Calculate the overlap integral over the aperture\n",
    "overlap, _ = dblquad(integrand, 0, D/2, lambda theta: 0, lambda theta: 2*np.pi)\n",
    "\n",
    "# Calculate the beam-coupling efficiency\n",
    "eta = (overlap / (np.pi * w_z**2 / 2))**2\n",
    "\n",
    "# Convert to dB\n",
    "eta_dB = 10 * np.log10(eta)\n",
    "\n",
    "# print(f\"Beam radius at distance z: {w_z:.4f} m\")\n",
    "# print(f\"Beam-coupling efficiency: {eta_dB:.4f} dB\")\n",
    "\n",
    "P_dB = noise_floor + SNR + eta_dB + G\n",
    "# print(f\"Transmitter output power: {P_dB:.4f} dBm\")\n",
    "\n",
    "P = (1*10**-3) * 10**(P_dB/10)\n",
    "print(f\"Transmitter output power: {P} W\")"
   ]
  },
  {
   "cell_type": "code",
   "execution_count": 17,
   "metadata": {},
   "outputs": [
    {
     "data": {
      "image/png": "[encoded data removed]",
      "text/plain": [
       "<Figure size 1296x432 with 3 Axes>"
      ]
     },
     "metadata": {
      "needs_background": "light"
     },
     "output_type": "display_data"
    }
   ],
   "source": [
    "# Subplot 1: SNR vs Surface Deformation\n",
    "SNR_array = np.linspace(20, 40, 1000)\n",
    "delta_z_array = 0.044 * lam * np.sqrt(N_row**2 / (f_oss * f_osr)) * 1 / (10**(SNR_array/10)) * 1 / np.sqrt(f_apo) * 1e6\n",
    "\n",
    "# Subplot 2: Delta_d vs Surface Deformation\n",
    "delta_d_array = np.linspace(10, 30, 1000)\n",
    "N_row_array = D / (delta_d_array * 1e-2) * f_apo * f_osr\n",
    "delta_z_array2 = 0.044 * lam * np.sqrt(N_row_array**2 / (f_oss * f_osr)) * 1 / (10**(SNR/10)) * 1 / np.sqrt(f_apo) * 1e6\n",
    "\n",
    "# Subplot 3: Frequency vs Surface Deformation\n",
    "nu_array = np.linspace(20, 500, 1000)  # Frequency in GHz\n",
    "lam_array = c / (nu_array * 1e9)       # Convert GHz to Hz and get wavelength in meters\n",
    "delta_z_array3 = 0.044 * lam_array * np.sqrt(N_row**2 / (f_oss * f_osr)) * 1 / (10**(SNR/10)) * 1 / np.sqrt(f_apo) * 1e6\n",
    "\n",
    "# Create a single figure with three subplots\n",
    "fig, axs = plt.subplots(1, 3, figsize=(18, 6))\n",
    "\n",
    "# Plot on the first subplot (SNR vs Surface Deformation)\n",
    "axs[0].plot(SNR_array, delta_z_array, linestyle='-', color='b')\n",
    "axs[0].set_title('SNR vs Surface Deformation')\n",
    "axs[0].set_xlabel('SNR (dB)')\n",
    "axs[0].set_ylabel('Surface deformation (um)')\n",
    "axs[0].grid(True)\n",
    "\n",
    "# Plot on the second subplot (Delta_d vs Surface Deformation)\n",
    "axs[1].plot(delta_d_array, delta_z_array2, linestyle='-', color='g')\n",
    "axs[1].set_title('Delta_d vs Surface Deformation')\n",
    "axs[1].set_xlabel('Delta_d (cm)')\n",
    "axs[1].set_ylabel('Surface deformation (um)')\n",
    "axs[1].grid(True)\n",
    "\n",
    "# Plot on the third subplot (Frequency vs Surface Deformation)\n",
    "axs[2].plot(nu_array, delta_z_array3, linestyle='-', color='r')\n",
    "axs[2].set_title('Frequency vs Surface Deformation')\n",
    "axs[2].set_xlabel('Frequency (GHz)')\n",
    "axs[2].set_ylabel('Surface deformation (um)')\n",
    "axs[2].grid(True)\n",
    "\n",
    "# Adjust layout and display the figure\n",
    "plt.tight_layout()\n",
    "plt.show()\n",
    "fig.savefig('deltaZ_vs.png', transparent=True)"
   ]
  }
 ],
 "metadata": {
  "kernelspec": {
   "display_name": "Python 3",
   "language": "python",
   "name": "python3"
  },
  "language_info": {
   "codemirror_mode": {
    "name": "ipython",
    "version": 3
   },
   "file_extension": ".py",
   "mimetype": "text/x-python",
   "name": "python",
   "nbconvert_exporter": "python",
   "pygments_lexer": "ipython3",
   "version": "3.10.5"
  }
 },
 "nbformat": 4,
 "nbformat_minor": 2
}
